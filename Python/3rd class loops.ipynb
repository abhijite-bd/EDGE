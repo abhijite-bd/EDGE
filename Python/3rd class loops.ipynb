{
 "cells": [
  {
   "cell_type": "markdown",
   "id": "cf4469bc",
   "metadata": {},
   "source": [
    "## Range(x,y,z)\n",
    "from x to y-1 and increment by z default 1\n"
   ]
  },
  {
   "cell_type": "code",
   "execution_count": 4,
   "id": "ce2ec824",
   "metadata": {},
   "outputs": [
    {
     "name": "stdout",
     "output_type": "stream",
     "text": [
      "2\n",
      "3\n",
      "4\n"
     ]
    }
   ],
   "source": [
    "for i in range(2,5):\n",
    "    print(i)"
   ]
  },
  {
   "cell_type": "code",
   "execution_count": 35,
   "id": "2fb00ebb",
   "metadata": {},
   "outputs": [
    {
     "name": "stdout",
     "output_type": "stream",
     "text": [
      "A\n",
      "B\n",
      "h\n",
      "i\n",
      "j\n",
      "i\n",
      "t\n",
      "e\n"
     ]
    }
   ],
   "source": [
    "s = \"ABhijite\"\n",
    "for i in s:\n",
    "    print(i)"
   ]
  },
  {
   "cell_type": "code",
   "execution_count": 45,
   "id": "f0d0fb4e",
   "metadata": {},
   "outputs": [
    {
     "name": "stdout",
     "output_type": "stream",
     "text": [
      "Abhijite"
     ]
    }
   ],
   "source": [
    "s = \"Abhijite\"\n",
    "for i in range(len(s)):\n",
    "    print(s[i],end=\"\")"
   ]
  },
  {
   "cell_type": "markdown",
   "id": "4cd8ea35",
   "metadata": {},
   "source": [
    "## Matrix"
   ]
  },
  {
   "cell_type": "code",
   "execution_count": 55,
   "id": "0aeadabb",
   "metadata": {},
   "outputs": [
    {
     "name": "stdout",
     "output_type": "stream",
     "text": [
      "11 12 \n",
      "21 22 \n",
      "31 32 \n"
     ]
    }
   ],
   "source": [
    "for i in range(1,4):\n",
    "    for j in range(1,3):\n",
    "        print(i,end=\"\")\n",
    "        print(j,end=\" \")\n",
    "    print()"
   ]
  },
  {
   "cell_type": "markdown",
   "id": "f8bf828e",
   "metadata": {},
   "source": [
    "## Break"
   ]
  },
  {
   "cell_type": "code",
   "execution_count": 52,
   "id": "062b1345",
   "metadata": {},
   "outputs": [
    {
     "name": "stdout",
     "output_type": "stream",
     "text": [
      "0\n",
      "1\n",
      "2\n"
     ]
    }
   ],
   "source": [
    "for i in range(5):\n",
    "    if(i==3):\n",
    "        break\n",
    "    print(i)"
   ]
  },
  {
   "cell_type": "markdown",
   "id": "a5f3ebc5",
   "metadata": {},
   "source": [
    "# continue"
   ]
  },
  {
   "cell_type": "code",
   "execution_count": 53,
   "id": "9f837f57",
   "metadata": {},
   "outputs": [
    {
     "name": "stdout",
     "output_type": "stream",
     "text": [
      "0\n",
      "1\n",
      "2\n",
      "4\n"
     ]
    }
   ],
   "source": [
    "for i in range(5):\n",
    "    if(i==3):\n",
    "        continue\n",
    "    print(i)"
   ]
  },
  {
   "cell_type": "code",
   "execution_count": 74,
   "id": "72f5be0a",
   "metadata": {},
   "outputs": [
    {
     "name": "stdout",
     "output_type": "stream",
     "text": [
      "H\n",
      "s\n",
      "t\n",
      "u\n",
      " \n",
      ",\n",
      " \n",
      "D\n",
      "i\n",
      "n\n",
      "a\n",
      "Loop Outer\n"
     ]
    }
   ],
   "source": [
    "s = \"Hstu , Dinajpur\"\n",
    "for l in s:\n",
    "    print(l)\n",
    "    if (l == 'a'):\n",
    "        break\n",
    "print(\"Loop Outer\")"
   ]
  },
  {
   "cell_type": "markdown",
   "id": "d91485a1",
   "metadata": {},
   "source": [
    "## Pass"
   ]
  },
  {
   "cell_type": "code",
   "execution_count": 75,
   "id": "dbbd2d9b",
   "metadata": {},
   "outputs": [],
   "source": [
    "for i in range(1,6):\n",
    "    pass"
   ]
  },
  {
   "cell_type": "code",
   "execution_count": 78,
   "id": "218c852b",
   "metadata": {},
   "outputs": [
    {
     "name": "stdout",
     "output_type": "stream",
     "text": [
      "3\n",
      "5\n",
      "6\n",
      "9\n",
      "10\n",
      "12\n",
      "15\n",
      "18\n",
      "20\n"
     ]
    }
   ],
   "source": [
    "for i in range(1,21):\n",
    "    if( i%3==0 or i%5==0):\n",
    "        print(i)"
   ]
  },
  {
   "cell_type": "markdown",
   "id": "b054e970",
   "metadata": {},
   "source": [
    "## List\n",
    "### -> multiple items , ordered, changeable, allow duplicate values\n",
    "### -> indexed start from 0\n",
    "### List=[1,2,3]"
   ]
  },
  {
   "cell_type": "code",
   "execution_count": null,
   "id": "512c3e9c",
   "metadata": {},
   "outputs": [
    {
     "name": "stdout",
     "output_type": "stream",
     "text": [
      "['apple', 'chery', 'banana', 1]\n"
     ]
    }
   ],
   "source": [
    "fruits=[\"apple\",\"chery\",\"banana\",1]\n",
    "print(fruits)"
   ]
  },
  {
   "cell_type": "code",
   "execution_count": 89,
   "id": "a2c4c321",
   "metadata": {},
   "outputs": [
    {
     "name": "stdout",
     "output_type": "stream",
     "text": [
      "apple   <class 'str'>\n",
      "chery   <class 'str'>\n",
      "banana   <class 'str'>\n",
      "1   <class 'int'>\n",
      "4\n"
     ]
    }
   ],
   "source": [
    "for i in range(len(fruits)):\n",
    "    print(fruits[i],\" \",type(fruits[i]))\n",
    "\n",
    "print(len(fruits))"
   ]
  },
  {
   "cell_type": "code",
   "execution_count": 101,
   "id": "93a8c4a6",
   "metadata": {},
   "outputs": [
    {
     "name": "stdout",
     "output_type": "stream",
     "text": [
      "['apple', 'banana', 'chery']\n",
      "<class 'list'>\n",
      "3\n"
     ]
    }
   ],
   "source": [
    "fruits=list((\"apple\",\"banana\",\"chery\")) #list constructor\n",
    "print(fruits)\n",
    "print(type(fruits))\n",
    "print(len(fruits))"
   ]
  },
  {
   "cell_type": "markdown",
   "id": "d4f7a495",
   "metadata": {},
   "source": [
    "### reverse"
   ]
  },
  {
   "cell_type": "code",
   "execution_count": null,
   "id": "86daea2f",
   "metadata": {},
   "outputs": [
    {
     "name": "stdout",
     "output_type": "stream",
     "text": [
      "banana\n",
      "chery\n",
      "apple\n",
      "apple\n"
     ]
    }
   ],
   "source": [
    "fruits=[\"apple\",\"chery\",\"banana\"]\n",
    "for i in range(len(fruits)):\n",
    "    print(fruits[-i-1])\n",
    "print(fruits[-3])"
   ]
  },
  {
   "cell_type": "markdown",
   "id": "82bbff85",
   "metadata": {},
   "source": [
    "### Slice"
   ]
  },
  {
   "cell_type": "code",
   "execution_count": 120,
   "id": "9c52c324",
   "metadata": {},
   "outputs": [
    {
     "name": "stdout",
     "output_type": "stream",
     "text": [
      "[2, 3, 4]\n",
      "[0, 1, 2, 3]\n",
      "[4, 5, 6, 7]\n"
     ]
    }
   ],
   "source": [
    "number=[0,1,2,3,4,5,6,7]\n",
    "print(number[2:5])\n",
    "print(number[:4])\n",
    "print(number[4:])"
   ]
  }
 ],
 "metadata": {
  "kernelspec": {
   "display_name": "Python 3",
   "language": "python",
   "name": "python3"
  },
  "language_info": {
   "codemirror_mode": {
    "name": "ipython",
    "version": 3
   },
   "file_extension": ".py",
   "mimetype": "text/x-python",
   "name": "python",
   "nbconvert_exporter": "python",
   "pygments_lexer": "ipython3",
   "version": "3.12.4"
  }
 },
 "nbformat": 4,
 "nbformat_minor": 5
}
