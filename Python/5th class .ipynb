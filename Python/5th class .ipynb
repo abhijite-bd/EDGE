{
 "cells": [
  {
   "cell_type": "markdown",
   "id": "ba440488",
   "metadata": {},
   "source": [
    "### Dictionary"
   ]
  },
  {
   "cell_type": "code",
   "execution_count": 7,
   "id": "30bc36c1",
   "metadata": {},
   "outputs": [
    {
     "name": "stdout",
     "output_type": "stream",
     "text": [
      "{'brand': 'Ford', 'model': 'mustang', 'year': 2020}\n",
      "Ford\n",
      "mustang\n",
      "2020\n",
      "3\n"
     ]
    }
   ],
   "source": [
    "car = {\"brand\": \"Ford\", \"model\": \"mustang\", \"year\": 1964, \"year\": 2020}#double year but previous will be overwritten\n",
    "print(car)\n",
    "print(car[\"brand\"])\n",
    "print(car[\"model\"])\n",
    "print(car[\"year\"])\n",
    "print(len(car))"
   ]
  },
  {
   "cell_type": "code",
   "execution_count": 65,
   "id": "95e97daa",
   "metadata": {},
   "outputs": [
    {
     "name": "stdout",
     "output_type": "stream",
     "text": [
      "{'name': 'Abhijite', 'age': 20, 'country': 'Bangladesh'}\n",
      "Bangladesh\n",
      "None\n",
      "dict_keys(['name', 'age', 'country'])\n",
      "dict_values(['Abhijite', 20, 'Bangladesh'])\n"
     ]
    }
   ],
   "source": [
    "people=dict(name=\"Abhijite\",age=20,country=\"Bangladesh\")\n",
    "print(people)\n",
    "print(people.get(\"country\"))\n",
    "print(people.get(\"country2\"))\n",
    "print(people.keys())\n",
    "print(people.values())"
   ]
  },
  {
   "cell_type": "markdown",
   "id": "f600a1fb",
   "metadata": {},
   "source": [
    "### update"
   ]
  },
  {
   "cell_type": "code",
   "execution_count": 63,
   "id": "cd1c46b7",
   "metadata": {},
   "outputs": [
    {
     "name": "stdout",
     "output_type": "stream",
     "text": [
      "{'name': 'Nishat', 'age': 20, 'country': 'Bangladesh'}\n",
      "{'name': 'Nishat', 'age': 24, 'country': 'Bangladesh', 'color': 'brown'}\n"
     ]
    }
   ],
   "source": [
    "people[\"name\"]=\"Nishat\"\n",
    "print(people)\n",
    "people.update({\"age\":24})\n",
    "people[\"color\"]=\"brown\"#color not available so another key added\n",
    "print(people)"
   ]
  },
  {
   "cell_type": "markdown",
   "id": "a74b003d",
   "metadata": {},
   "source": [
    "### Delete\n",
    "- del deleted the dictionary\n",
    "- clear clear the dictionary\n"
   ]
  },
  {
   "cell_type": "code",
   "execution_count": null,
   "id": "a9d4c0f6",
   "metadata": {},
   "outputs": [
    {
     "name": "stdout",
     "output_type": "stream",
     "text": [
      "{'name': 'Nishat', 'age': 24, 'country': 'Bangladesh', 'color': 'brown'}\n",
      "{}\n"
     ]
    }
   ],
   "source": [
    "print(people)\n",
    "# del people \n",
    "people.clear()\n",
    "print(people)"
   ]
  },
  {
   "cell_type": "code",
   "execution_count": 74,
   "id": "a69c516e",
   "metadata": {},
   "outputs": [
    {
     "name": "stdout",
     "output_type": "stream",
     "text": [
      "name\n",
      "age\n",
      "country\n",
      "\n",
      "name Abhijite\n",
      "age 20\n",
      "country Bangladesh\n",
      "\n",
      "name Abhijite\n",
      "age 20\n",
      "country Bangladesh\n"
     ]
    }
   ],
   "source": [
    "for x in people:\n",
    "    print(x)\n",
    "print()\n",
    "for x in people:\n",
    "    print(x,people[x])\n",
    "print()\n",
    "for x,y in people.items():\n",
    "    print(x,y)"
   ]
  },
  {
   "cell_type": "markdown",
   "id": "2f4bf4d5",
   "metadata": {},
   "source": [
    "### Copy"
   ]
  },
  {
   "cell_type": "code",
   "execution_count": 76,
   "id": "bb25434a",
   "metadata": {},
   "outputs": [
    {
     "name": "stdout",
     "output_type": "stream",
     "text": [
      "{'name': 'Abhijite', 'age': 20, 'country': 'Bangladesh'}\n"
     ]
    }
   ],
   "source": [
    "new_people=dict(people)\n",
    "print(new_people)"
   ]
  },
  {
   "cell_type": "markdown",
   "id": "503429ba",
   "metadata": {},
   "source": [
    "### DIctionary Comprehension"
   ]
  },
  {
   "cell_type": "code",
   "execution_count": 81,
   "id": "3266ab6f",
   "metadata": {},
   "outputs": [
    {
     "name": "stdout",
     "output_type": "stream",
     "text": [
      "<zip object at 0x0000023024C5F1C0>\n",
      "{1: 1, 2: 2, 3: 3}\n"
     ]
    }
   ],
   "source": [
    "keys = [1, 2, 3]\n",
    "values = [1, 2, 3]\n",
    "print(zip(keys, values))\n",
    "mydict = {k: v for k, v in zip(keys, values)}\n",
    "print(mydict)"
   ]
  },
  {
   "cell_type": "code",
   "execution_count": null,
   "id": "00ff684c",
   "metadata": {},
   "outputs": [
    {
     "name": "stdout",
     "output_type": "stream",
     "text": [
      "{2: 4, 4: 16, 6: 36, 8: 64, 10: 100}\n"
     ]
    }
   ],
   "source": [
    "even = {x: x**2 for x in range(1, 11) if x % 2 == 0}\n",
    "print(even)"
   ]
  }
 ],
 "metadata": {
  "kernelspec": {
   "display_name": "Python 3",
   "language": "python",
   "name": "python3"
  },
  "language_info": {
   "codemirror_mode": {
    "name": "ipython",
    "version": 3
   },
   "file_extension": ".py",
   "mimetype": "text/x-python",
   "name": "python",
   "nbconvert_exporter": "python",
   "pygments_lexer": "ipython3",
   "version": "3.12.4"
  }
 },
 "nbformat": 4,
 "nbformat_minor": 5
}
